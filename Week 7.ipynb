{
 "cells": [
  {
   "cell_type": "markdown",
   "metadata": {},
   "source": [
    "Track the measures of center of the amount of interactions for subdivisions of the day (use histogram).  On average, many times do unique pairs interact throughtout the subdivision?"
   ]
  },
  {
   "cell_type": "code",
   "execution_count": 5,
   "metadata": {},
   "outputs": [
    {
     "name": "stdout",
     "output_type": "stream",
     "text": [
      "2013-12-02 12:00:20\n"
     ]
    }
   ],
   "source": [
    "import csv\n",
    "import matplotlib.pyplot as plt\n",
    "import matplotlib.dates as mdates\n",
    "import networkx as nx\n",
    "import time\n",
    "import datetime\n",
    "\n",
    "def toDatetimeTimestamp(t): #takes timestamp from original file and turns it into datetime datetime object\n",
    "    return datetime.datetime.fromtimestamp(time.mktime(time.gmtime(int(t) + 3600)))\n",
    "    #timezone conversion is done when adding 3600 seconds (one hour)"
   ]
  },
  {
   "cell_type": "code",
   "execution_count": 2,
   "metadata": {
    "tags": []
   },
   "outputs": [
    {
     "name": "stdout",
     "output_type": "stream",
     "text": [
      "2013-12-02 12:00:20 2013-12-02 15:00:00\n",
      "False\n"
     ]
    }
   ],
   "source": [
    "d = datetime.datetime.fromtimestamp(time.mktime(time.gmtime(1385982020 + 3600)))\n",
    "dd = datetime.datetime(2013, 12, 2, hour=15)\n",
    "print(d, dd)\n",
    "print(d > dd)"
   ]
  },
  {
   "cell_type": "code",
   "execution_count": 42,
   "metadata": {
    "scrolled": false
   },
   "outputs": [
    {
     "name": "stdout",
     "output_type": "stream",
     "text": [
      "processing 2013-12-02 09:00:00 0 0\n",
      "processing 2013-12-02 10:00:00 0 0\n",
      "processing 2013-12-02 11:00:00 0 0\n",
      "processing 2013-12-02 12:00:00 0 0\n",
      "processing 2013-12-02 13:00:00 821 5732\n",
      "processing 2013-12-02 14:00:00 592 4393\n",
      "processing 2013-12-02 15:00:00 808 6770\n",
      "processing 2013-12-02 16:00:00 495 5814\n",
      "processing 2013-12-02 17:00:00 811 6071\n",
      "processing 2013-12-03 09:00:00 290 6254\n",
      "processing 2013-12-03 10:00:00 510 5507\n",
      "processing 2013-12-03 11:00:00 1007 7402\n",
      "processing 2013-12-03 12:00:00 198 5205\n",
      "processing 2013-12-03 13:00:00 606 4833\n",
      "processing 2013-12-03 14:00:00 606 4419\n",
      "processing 2013-12-03 15:00:00 614 5294\n",
      "processing 2013-12-03 16:00:00 268 3994\n",
      "processing 2013-12-03 17:00:00 737 4430\n",
      "processing 2013-12-04 09:00:00 257 5126\n",
      "processing 2013-12-04 10:00:00 550 6315\n",
      "processing 2013-12-04 11:00:00 1019 7586\n",
      "processing 2013-12-04 12:00:00 203 4157\n",
      "processing 2013-12-04 13:00:00 644 4079\n",
      "processing 2013-12-04 14:00:00 475 4694\n",
      "processing 2013-12-04 15:00:00 395 3307\n",
      "processing 2013-12-04 16:00:00 188 2694\n",
      "processing 2013-12-04 17:00:00 354 2216\n",
      "processing 2013-12-05 09:00:00 265 4801\n",
      "processing 2013-12-05 10:00:00 482 5125\n",
      "processing 2013-12-05 11:00:00 773 6445\n",
      "processing 2013-12-05 12:00:00 270 4490\n",
      "processing 2013-12-05 13:00:00 586 3207\n",
      "processing 2013-12-05 14:00:00 534 3240\n",
      "processing 2013-12-05 15:00:00 436 3747\n",
      "processing 2013-12-05 16:00:00 337 3590\n",
      "processing 2013-12-05 17:00:00 403 2634\n",
      "processing 2013-12-06 09:00:00 190 4018\n",
      "processing 2013-12-06 10:00:00 534 5207\n",
      "processing 2013-12-06 11:00:00 1024 7342\n",
      "processing 2013-12-06 12:00:00 298 5355\n",
      "processing 2013-12-06 13:00:00 545 4272\n",
      "processing 2013-12-06 14:00:00 637 3406\n",
      "processing 2013-12-06 15:00:00 238 1911\n",
      "processing 2013-12-06 16:00:00 228 2043\n",
      "processing 2013-12-06 17:00:00 220 1383\n"
     ]
    }
   ],
   "source": [
    "data = {} #key is end timestamp, value is tuple of statistics\n",
    "with open(\"data/original/High-School_data_2013.csv\", 'r') as infile:\n",
    "    reader = csv.reader(infile, delimiter=\" \")\n",
    "    \n",
    "    hourly_data = {} #key is pair of students, value is count of timestamps\n",
    "\n",
    "    t, id1, id2, cls1, cls2 = next(reader)\n",
    "    ts = toDatetimeTimestamp(int(t))\n",
    "\n",
    "    for day in [2, 3, 4, 5, 6]:\n",
    "        for hour in [9, 10, 11, 12, 13, 14, 15, 16, 17]:\n",
    "            end_timestamp = datetime.datetime(2013, 12, day, hour, 0, 0)\n",
    "            \n",
    "            while ts < end_timestamp:\n",
    "                students = (min(int(id1), int(id2)), max(int(id1), int(id2)))\n",
    "                if (students in hourly_data):\n",
    "                    hourly_data[students] += 1\n",
    "                else:\n",
    "                    hourly_data[students] = 1\n",
    "                \n",
    "                try:\n",
    "                    t, id1, id2, cls1, cls2 = next(reader)\n",
    "                except: \n",
    "                    break\n",
    "                ts = toDatetimeTimestamp(int(t))\n",
    "                \n",
    "            #process hourly_data\n",
    "            num_interactions = sum(list(hourly_data.values()))\n",
    "            data[end_timestamp] = (len(hourly_data), num_interactions)\n",
    "            print(\"processing\", end_timestamp, len(hourly_data), num_interactions)\n",
    "            hourly_data.clear()\n"
   ]
  },
  {
   "cell_type": "markdown",
   "metadata": {},
   "source": [
    "Shown below are histograms of the average number of times a single pair interacts over a certain amount of time"
   ]
  },
  {
   "cell_type": "code",
   "execution_count": 45,
   "metadata": {},
   "outputs": [
    {
     "data": {
      "text/plain": [
       "<BarContainer object of 45 artists>"
      ]
     },
     "execution_count": 45,
     "metadata": {},
     "output_type": "execute_result"
    },
    {
     "data": {
      "image/png": "[encoded data removed]",
      "text/plain": [
       "<Figure size 1872x576 with 1 Axes>"
      ]
     },
     "metadata": {
      "needs_background": "light"
     },
     "output_type": "display_data"
    }
   ],
   "source": [
    "xaxis_vals = list(data.keys())\n",
    "yaxis_vals = [float(counts)/(327.0*163) for (num_unique, counts) in list(data.values())]\n",
    "#normaized averages, sum of interaction timestamps divided by total number of possible pairs\n",
    "\n",
    "figure, axes = plt.subplots(figsize=(26,8)) # set the size that you'd like (width, height)\n",
    "axes.xaxis.set_major_formatter(mdates.DateFormatter('%a %H:%M'))\n",
    "plt.xticks(rotation=90)\n",
    "plt.bar(xaxis_vals, yaxis_vals, width=0.01, color=\"purple\")"
   ]
  },
  {
   "cell_type": "code",
   "execution_count": null,
   "metadata": {},
   "outputs": [],
   "source": []
  }
 ],
 "metadata": {
  "kernelspec": {
   "display_name": "Python 3",
   "language": "python",
   "name": "python3"
  },
  "language_info": {
   "codemirror_mode": {
    "name": "ipython",
    "version": 3
   },
   "file_extension": ".py",
   "mimetype": "text/x-python",
   "name": "python",
   "nbconvert_exporter": "python",
   "pygments_lexer": "ipython3",
   "version": "3.7.6"
  }
 },
 "nbformat": 4,
 "nbformat_minor": 2
}

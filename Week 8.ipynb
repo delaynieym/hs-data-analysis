{
 "metadata": {
  "language_info": {
   "codemirror_mode": {
    "name": "ipython",
    "version": 3
   },
   "file_extension": ".py",
   "mimetype": "text/x-python",
   "name": "python",
   "nbconvert_exporter": "python",
   "pygments_lexer": "ipython3",
   "version": 3
  },
  "orig_nbformat": 2
 },
 "nbformat": 4,
 "nbformat_minor": 2,
 "cells": [
  {
   "cell_type": "markdown",
   "metadata": {},
   "source": [
    "How does \"friendship\" affect how often and when pairs interact?  \n",
    "\n",
    "**Frequency of interaction** between mutual friends, one-way friends, and non-friends\n",
    "- Looks like a normal distribution graph (assuming the data are normally distributed)\n",
    "- x-axis is number of interactions\n",
    "- y-axis is the frequency, how many pairs interact that much\n",
    "\n",
    "**When there is interaction** between mutual friends, one-way friends, and non-friends\n",
    "- Time-based graph\n",
    "- x-axis is time of day\n",
    "- y-axis is the total number of interactions at that point in time"
   ]
  }
 ]
}